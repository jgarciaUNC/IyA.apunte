{
 "cells": [
  {
   "cell_type": "markdown",
   "id": "255717a7",
   "metadata": {},
   "source": [
    "# ADF diagrama radiación"
   ]
  },
  {
   "cell_type": "code",
   "execution_count": null,
   "id": "e8594e7c",
   "metadata": {},
   "outputs": [],
   "source": [
    "#-----------------------------Constantes\n",
    "reset()\n",
    "\n",
    "Pi = pi.n()\n",
    "\n",
    "# para elevar el número \"e\" a una potencia hacer \"exp()\"\n",
    "\n",
    "# la unidad imaginaria en SageTex es \"I\"\n",
    "\n",
    "#-----------------------------Funciones auxiliares\n",
    "\n",
    "def Numerico(datos):\n",
    "    \"\"\"\n",
    "    Convierte una lista con expresiones en sus valores numericos\n",
    "    \"\"\"\n",
    "    return [datos[i].n() for i in [0..len(datos) - 1 ]]   \n",
    "\n",
    "import csv        # permite importar y exportar archivos .csv\n",
    "\n"
   ]
  },
  {
   "cell_type": "code",
   "execution_count": null,
   "id": "41f536be",
   "metadata": {},
   "outputs": [],
   "source": [
    "Origen = 0.  + I * 0.     # Origen figuras\n",
    "\n",
    "N = 100                   # Discretización\n",
    "\n",
    "Rcirculo = 1. \n",
    "\n",
    "Circulo = [( Rcirculo * exp( I * k * 2 * Pi / N ))  for k in [0..N] ]  # Circulo discretizado plano Z\n",
    "\n"
   ]
  }
 ],
 "metadata": {
  "kernelspec": {
   "display_name": "SageMath 9.0",
   "language": "sage",
   "name": "sagemath"
  },
  "language_info": {
   "codemirror_mode": {
    "name": "ipython",
    "version": 3
   },
   "file_extension": ".py",
   "mimetype": "text/x-python",
   "name": "python",
   "nbconvert_exporter": "python",
   "pygments_lexer": "ipython3",
   "version": "3.8.10"
  }
 },
 "nbformat": 4,
 "nbformat_minor": 5
}
